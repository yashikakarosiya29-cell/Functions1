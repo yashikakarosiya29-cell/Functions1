{
  "nbformat": 4,
  "nbformat_minor": 0,
  "metadata": {
    "colab": {
      "provenance": []
    },
    "kernelspec": {
      "name": "python3",
      "display_name": "Python 3"
    },
    "language_info": {
      "name": "python"
    }
  },
  "cells": [
    {
      "cell_type": "markdown",
      "source": [
        "# **Theory Questions**"
      ],
      "metadata": {
        "id": "M3zeFvKQtxCH"
      }
    },
    {
      "cell_type": "markdown",
      "source": [
        "1. What is the difference between a function and a method in Python?\n",
        "-  1. Function\n",
        "\n",
        "     . A function is a block of code that performs a specific task.\n",
        "\n",
        "     . Defined using the def keyword.\n",
        "\n",
        "     . Can exist independently (outside of a class).\n",
        "\n",
        "     . Called by its name.\n",
        "\n",
        "   Example:\n",
        "\n",
        "     def greet(name):\n",
        "    return f\"Hello, {name}!\"\n",
        "\n",
        "    print(greet(\"Yashika\"))   # Function call\n",
        "\n",
        "    2. Method\n",
        "\n",
        "    . A method is also a function, but it is associated with an object/class.\n",
        "\n",
        "    . It always takes the instance (self) or class (cls) as its first parameter (implicitly passed).\n",
        "\n",
        "    . Defined inside a class.\n",
        "\n",
        "    . Called using the object of that class.\n",
        "\n",
        "   Example:\n",
        "\n",
        "   class Person:\n",
        "       def greet(self, name):   # Method inside class\n",
        "        return f\"Hello, {name}!\"\n",
        "\n",
        "    p = Person()\n",
        "    print(p.greet(\"Yashika\"))   # Method call\n",
        "\n"
      ],
      "metadata": {
        "id": "mb09YQtOuHz8"
      }
    },
    {
      "cell_type": "markdown",
      "source": [
        "2. Explain the concept of function arguments and parameters in Python.\n",
        "-  Function Parameters and Arguments in Python\n",
        "\n",
        "    1)Parameters are the variables defined in the function declaration. They act as placeholders that receive values when the function is called.\n",
        "\n",
        "    2)Arguments are the actual values supplied to a function when it is invoked. These values are passed into the parameters of the function.\n",
        "\n",
        "ߑ   In short:\n",
        "\n",
        "     Parameters are like containers defined in the function.\n",
        "\n",
        "     Arguments are the real data that fill those containers when the function runs."
      ],
      "metadata": {
        "id": "MDKxmcNNwjDx"
      }
    },
    {
      "cell_type": "markdown",
      "source": [
        "3. What are the different ways to define and call a function in Python?\n",
        "-   Different Ways to Define and Call a Function in Python\n",
        "\n",
        "    1)Simple Function (with no parameters)\n",
        "\n",
        "    .Defined using the def keyword followed by the function name and parentheses.\n",
        "\n",
        "    .Called by writing the function name followed by parentheses.\n",
        "\n",
        "    2)Function with Parameters\n",
        "\n",
        "    .Parameters are written inside the parentheses during definition.\n",
        "\n",
        "    .When calling the function, arguments are provided that match the parameters.\n",
        "\n",
        "    3)Function with Default Parameters\n",
        "\n",
        "    .Parameters can have default values.\n",
        "\n",
        "    .The function can be called either by passing arguments or by skipping them, in which case the default values are used.\n",
        "\n",
        "    4)Function with Keyword Arguments\n",
        "\n",
        "    .While calling, arguments can be passed in the form of parameter_name = value.\n",
        "\n",
        "    .This improves readability and order does not matter.\n",
        "\n",
        "    5)Function with Variable-Length Arguments\n",
        "\n",
        "    .Using *args for multiple positional arguments.\n",
        "\n",
        "    .Using **kwargs for multiple keyword arguments.\n",
        "\n",
        "    6)Lambda Function (Anonymous Function)\n",
        "\n",
        "    .  defined  using the lambda keyword in a single line.\n",
        "\n",
        "    .Called just like normal functions."
      ],
      "metadata": {
        "id": "bXPz-Rm6wuc4"
      }
    },
    {
      "cell_type": "markdown",
      "source": [
        "\n",
        "4) what is the purpose of Return statements in python?\n",
        "-  Purpose of the return Statement in Python\n",
        "\n",
        "    .The return statement is used inside a function to send a value back to the caller.\n",
        "\n",
        "   . It allows the function to produce a result that can be stored in a variable, printed, or used in further computations.\n",
        "\n",
        "\n",
        "    .Without a return statement, a function returns None by default.\n",
        "\n",
        "    .It also terminates the function execution immediately, meaning any code after return inside the function will not run.\n",
        "\n",
        "\n",
        "\n"
      ],
      "metadata": {
        "id": "Z-vppAiIw1JC"
      }
    },
    {
      "cell_type": "markdown",
      "source": [
        "5. What are iterators in Python and how do they differ from iterables?\n",
        "-  Iterables vs Iterators in Python\n",
        "\n",
        "1. Iterable:\n",
        "\n",
        ". An iterable is any Python object that can return its elements one at a time.\n",
        "\n",
        " . Examples include lists, tuples, dictionaries, sets, and strings.\n",
        "\n",
        " . An iterable can be passed to the iter() function to get an iterator.\n",
        "\n",
        " . Simply put, iterables can be looped over, like in a for loop.\n",
        "\n",
        "2. Iterator:\n",
        "\n",
        " .An iterator is an object that represents a stream of data and returns one element at a time when next() is called.\n",
        "\n",
        " . Iterators keep track of their current position, so each call to next() returns the next item.\n",
        "\n",
        " . Once all items are exhausted, calling next() raises a StopIteration exception.\n"
      ],
      "metadata": {
        "id": "Xr7yJ5N1w75f"
      }
    },
    {
      "cell_type": "markdown",
      "source": [
        "6. Explain the concept of generators in Python and how they are defined.\n",
        "-  A generator in Python is a special type of iterator that generates values one at a time on the fly, instead of storing all of them in memory. Generators are defined using a function with the yield keyword or by using generator expressions with parentheses. They are useful for handling large sequences efficiently, as they produce values only when requested and maintain their state between successive calls.\n",
        "\n",
        "\n"
      ],
      "metadata": {
        "id": "R2Pz8_v7xEwQ"
      }
    },
    {
      "cell_type": "markdown",
      "source": [
        "7. What are the advantages of using generators over regular functions?\n",
        "-  Generators in Python have several advantages over regular functions. They use less memory because they generate values one at a time instead of storing the entire sequence in memory. They are more efficient for large datasets or streams of data since they produce items on demand. Generators also maintain their state between successive calls, which allows them to resume where they left off without recomputing values. Additionally, they can lead to cleaner and more readable code when handling sequences or iterative computations."
      ],
      "metadata": {
        "id": "RA7CUNo8xLxU"
      }
    },
    {
      "cell_type": "markdown",
      "source": [
        "8. What is a lambda function in Python and when is it typically used?\n",
        "-  A lambda function in Python is a small, anonymous function defined using the lambda keyword instead of def. It can take any number of arguments but can only contain a single expression, whose result is returned automatically. Lambda functions are typically used for short, simple operations, often as arguments to functions like map(), filter(), and sorted(), where defining a full function would be unnecessary."
      ],
      "metadata": {
        "id": "OImKLJslxXBf"
      }
    },
    {
      "cell_type": "markdown",
      "source": [
        "9. Explain the purpose and usage of the `map()` function in Python.\n",
        "-  The map() function in Python is used to apply a given function to each item of an iterable (like a list, tuple, or set) and return a new iterator with the results. It is commonly used when you want to perform the same operation on every element of a sequence without writing an explicit loop. The function passed to map() can be a regular function or a lambda function, making it useful for concise and readable code."
      ],
      "metadata": {
        "id": "-cws7lISxeMr"
      }
    },
    {
      "cell_type": "markdown",
      "source": [
        "10. What is the difference between `map()`, `reduce()`, and `filter()` functions in Python?\n",
        "-  map(), reduce(), and filter() are built-in Python functions used to process iterables, but they serve different purposes.\n",
        "\n",
        "   1)map() applies a given function to each element of an iterable and returns a new iterator with the transformed elements.\n",
        "\n",
        "   2)filter() applies a function that returns True or False to each element and returns an iterator containing only the elements for which the function returned True.\n",
        "\n",
        "   3)reduce() (from the functools module) applies a function cumulatively to the items of an iterable, reducing it to a single value by combining elements step by step.\n",
        "\n"
      ],
      "metadata": {
        "id": "fjPZswmoxk-w"
      }
    },
    {
      "cell_type": "markdown",
      "source": [
        "11. Using pen & Paper write the internal mechanism for sum operation using  reduce function on this given\n",
        "-  To explain the internal mechanism of the reduce() function for a sum operation, let’s break it down step by step using a simple example. Suppose the iterable is:\n",
        "\n",
        "numbers = [1, 2, 3, 4]\n",
        "\n",
        "\n",
        "We want to find the sum using reduce(). The syntax is:\n",
        "\n",
        "from functools import reduce\n",
        "result = reduce(lambda x, y: x + y, numbers)\n",
        "\n",
        "Internal Mechanism Step by Step\n",
        "\n",
        "Step 1: Take the first two elements of the list.\n",
        "\n",
        "x = 1, y = 2\n",
        "x + y = 3\n",
        "\n",
        "\n",
        "Step 2: Take the result from Step 1 and the next element.\n",
        "\n",
        "x = 3, y = 3\n",
        "x + y = 6\n",
        "\n",
        "\n",
        "Step 3: Take the result from Step 2 and the next element.\n",
        "\n",
        "x = 6, y = 4\n",
        "x + y = 10\n",
        "\n",
        "\n",
        "Final Result: The final value after all iterations is 10."
      ],
      "metadata": {
        "id": "3sPxzrbpxsRm"
      }
    },
    {
      "cell_type": "markdown",
      "source": [],
      "metadata": {
        "id": "H7_OnYsG91GO"
      }
    },
    {
      "cell_type": "markdown",
      "source": [
        "# **Practical** **Questions**"
      ],
      "metadata": {
        "id": "jgj_9KS792kl"
      }
    },
    {
      "cell_type": "markdown",
      "source": [
        "1. Write a Python function that takes a list of numbers as input and returns the sum of all even numbers in the list?\n"
      ],
      "metadata": {
        "id": "C-mHZBJ_-DYg"
      }
    },
    {
      "cell_type": "code",
      "source": [
        "nums = [1,2,3,4,5,6]\n",
        "print(sum([num for num in nums if num%2==0]))"
      ],
      "metadata": {
        "colab": {
          "base_uri": "https://localhost:8080/"
        },
        "id": "DBQv-89IdeIo",
        "outputId": "55b62a8b-6c71-4a1b-f4b0-cb12404247ed"
      },
      "execution_count": null,
      "outputs": [
        {
          "output_type": "stream",
          "name": "stdout",
          "text": [
            "12\n"
          ]
        }
      ]
    },
    {
      "cell_type": "markdown",
      "source": [
        "2. Create a Python function that accepts a string and returns the reverse of that string."
      ],
      "metadata": {
        "id": "MfndMjuqfHjB"
      }
    },
    {
      "cell_type": "code",
      "source": [
        "text = \"yashika\"\n",
        "print(text[ : :-1])"
      ],
      "metadata": {
        "id": "BU7v0zEVfV19",
        "colab": {
          "base_uri": "https://localhost:8080/"
        },
        "outputId": "04d1d4d5-144c-42a6-f7c7-7bc4820a22de"
      },
      "execution_count": null,
      "outputs": [
        {
          "output_type": "stream",
          "name": "stdout",
          "text": [
            "akihsay\n"
          ]
        }
      ]
    },
    {
      "cell_type": "markdown",
      "source": [
        "3. Implement a Python function that takes a list of integers and returns a new list containing the squares of each numbers.\n"
      ],
      "metadata": {
        "id": "N9WRB0GRhU50"
      }
    },
    {
      "cell_type": "code",
      "source": [
        "squares = [x**2 for x in range(1,6)]\n",
        "print (squares)"
      ],
      "metadata": {
        "colab": {
          "base_uri": "https://localhost:8080/"
        },
        "id": "hmMo5rFSiqgl",
        "outputId": "d1533dad-9716-4115-95a7-ac5f8578633f"
      },
      "execution_count": null,
      "outputs": [
        {
          "output_type": "stream",
          "name": "stdout",
          "text": [
            "[1, 4, 9, 16, 25]\n"
          ]
        }
      ]
    },
    {
      "cell_type": "markdown",
      "source": [
        "4. Write a Python function that checks if a given number is prime or not from 1 to 200."
      ],
      "metadata": {
        "id": "L-oFRqu6kLWa"
      }
    },
    {
      "cell_type": "code",
      "source": [
        "num = int(input(\"Enter a number between 1 and 200: \"))\n",
        "\n",
        "if 1 <= num <= 200:\n",
        "    if is_prime(num):\n",
        "        print(f\"{num} is Prime\")\n",
        "    else:\n",
        "        print(f\"{num} is Not Prime\")\n",
        "else:\n",
        "    print(\"Please enter a number within 1 to 200.\")\n"
      ],
      "metadata": {
        "colab": {
          "base_uri": "https://localhost:8080/"
        },
        "id": "8jpmcKx-mouA",
        "outputId": "8a1c4650-351a-4632-837c-f68746f1c756"
      },
      "execution_count": null,
      "outputs": [
        {
          "output_type": "stream",
          "name": "stdout",
          "text": [
            "Enter a number between 1 and 200: 147\n",
            "147 is Not Prime\n"
          ]
        }
      ]
    },
    {
      "cell_type": "markdown",
      "source": [
        "5. Create an iterator class in Python that generates the Fibonacci sequence up to a specified number of terms."
      ],
      "metadata": {
        "id": "ETwEjfRlm4jt"
      }
    },
    {
      "cell_type": "code",
      "source": [
        "try:\n",
        "    num_terms = int(input(\"Enter the number of terms: \"))\n",
        "    if num_terms <= 0:\n",
        "        print(\"Please enter a positive integer\")\n",
        "    else:\n",
        "        fib_iterator = Fibonacci(num_terms)\n",
        "        print(\"Fibonacci sequence:\")\n",
        "        for term in fib_iterator:\n",
        "            print(term)\n",
        "except ValueError:\n",
        "    print(\"Invalid input. Please enter an integer.\")"
      ],
      "metadata": {
        "colab": {
          "base_uri": "https://localhost:8080/"
        },
        "id": "vNg-JzH6byrI",
        "outputId": "5a1538dc-5ee0-4896-b1ed-4c10df757087"
      },
      "execution_count": null,
      "outputs": [
        {
          "output_type": "stream",
          "name": "stdout",
          "text": [
            "Enter the number of terms: 6\n",
            "Fibonacci sequence:\n",
            "0\n",
            "-1\n",
            "-1\n",
            "-2\n",
            "-3\n",
            "-5\n"
          ]
        }
      ]
    },
    {
      "cell_type": "markdown",
      "source": [
        "6. Write a generator function in Python that yields the powers of 2 up to a given exponent."
      ],
      "metadata": {
        "id": "a7HK5bxceH7k"
      }
    },
    {
      "cell_type": "code",
      "source": [
        "def power_of_two(n):\n",
        "    for i in range(n + 1):\n",
        "        yield 2 ** i\n",
        "\n",
        "exponent = 5\n",
        "for power in power_of_two(exponent):\n",
        "    print(power)\n",
        "\n",
        "\n",
        "\n"
      ],
      "metadata": {
        "colab": {
          "base_uri": "https://localhost:8080/"
        },
        "id": "zgRiVRtgfTQI",
        "outputId": "20bace34-346f-4ad1-a3f4-903448f45b24"
      },
      "execution_count": null,
      "outputs": [
        {
          "output_type": "stream",
          "name": "stdout",
          "text": [
            "1\n",
            "2\n",
            "4\n",
            "8\n",
            "16\n",
            "32\n"
          ]
        }
      ]
    },
    {
      "cell_type": "markdown",
      "source": [
        "7. Implement a generator function that reads a file line by line and yields each line as a string."
      ],
      "metadata": {
        "id": "ZkjYgrmdgj22"
      }
    },
    {
      "cell_type": "code",
      "source": [
        "def read_file_lines(filename):\n",
        "   with open(filename, 'r') as file:\n",
        "        for line in file:\n",
        "            yield line.strip()\n",
        "\n",
        "filename = 'example.txt'\n",
        "for line in read_file_lines(filename):\n",
        "    print(line)"
      ],
      "metadata": {
        "colab": {
          "base_uri": "https://localhost:8080/"
        },
        "id": "QhzSm1z9gsbr",
        "outputId": "b8a62ea1-bfa0-4dd2-e16e-cca85a5965e4"
      },
      "execution_count": null,
      "outputs": [
        {
          "output_type": "stream",
          "name": "stdout",
          "text": [
            "This is line 1\n",
            "This is line 2\n",
            "This is line 3\n"
          ]
        }
      ]
    },
    {
      "cell_type": "markdown",
      "source": [
        "8. Use a lambda function in Python to sort a list of tuples based on the second element of each tuple."
      ],
      "metadata": {
        "id": "aGPNmsuugj1I"
      }
    },
    {
      "cell_type": "code",
      "source": [
        "data =[(1,5),(2,2),(3,4),(4,1)]\n",
        "sorted_data = sorted(data, key=lambda x: x[1])\n",
        "print(sorted_data)"
      ],
      "metadata": {
        "colab": {
          "base_uri": "https://localhost:8080/"
        },
        "id": "Mu5yYa8DiLj8",
        "outputId": "2f5f4cac-91cc-4a1d-b346-c38e01914a7e"
      },
      "execution_count": null,
      "outputs": [
        {
          "output_type": "stream",
          "name": "stdout",
          "text": [
            "[(4, 1), (2, 2), (3, 4), (1, 5)]\n"
          ]
        }
      ]
    },
    {
      "cell_type": "markdown",
      "source": [
        "9. Write a Python program that uses `map()` to convert a list of temperatures from Celsius to Fahrenheit."
      ],
      "metadata": {
        "id": "omf7sEbSoPyg"
      }
    },
    {
      "cell_type": "code",
      "source": [
        "celsius_temperatures = [0, 10, 20, 30, 40]\n",
        "fahrenheit_temperatures = list(map(lambda c: (c * 9/5) + 32, celsius_temperatures))\n",
        "print(fahrenheit_temperatures)\n"
      ],
      "metadata": {
        "colab": {
          "base_uri": "https://localhost:8080/"
        },
        "id": "WWNzwnvkd724",
        "outputId": "e53eeaaf-d60e-43e8-c07f-b0fa391928f2"
      },
      "execution_count": null,
      "outputs": [
        {
          "output_type": "stream",
          "name": "stdout",
          "text": [
            "[32.0, 50.0, 68.0, 86.0, 104.0]\n"
          ]
        }
      ]
    },
    {
      "cell_type": "markdown",
      "source": [
        "10. Create a Python program that uses `filter()` to remove all the vowels from a given string."
      ],
      "metadata": {
        "id": "e6dE4NfOoPwc"
      }
    },
    {
      "cell_type": "code",
      "source": [
        "name = \"Yashika\"\n",
        "vowels = \"aeiouAEIOU\"\n",
        "filtered_string = \"\".join(filter(lambda x: x not in vowels, name))\n",
        "print(filtered_string)"
      ],
      "metadata": {
        "colab": {
          "base_uri": "https://localhost:8080/"
        },
        "id": "VeTMGWkFkRv6",
        "outputId": "936592fc-9033-4ab1-a920-66839aca01e9"
      },
      "execution_count": null,
      "outputs": [
        {
          "output_type": "stream",
          "name": "stdout",
          "text": [
            "Yshk\n"
          ]
        }
      ]
    },
    {
      "cell_type": "markdown",
      "source": [
        "11) Imagine an accounting routine used in a book shop. It works on a list with sublists, which look like this:"
      ],
      "metadata": {
        "id": "Ow_unLdslC2t"
      }
    },
    {
      "cell_type": "code",
      "source": [
        "orders = [ [\"34587\", \"Learning Python, Mark Lutz\", 4, 40.95],\n",
        "           [\"98762\", \"Programming Python, Mark Lutz\", 5, 56.80],\n",
        "           [\"77226\", \"Head First Python, Paul Barry\", 3,32.95],\n",
        "           [\"88112\", \"Einführung in Python3, Bernd Klein\", \t3, 24.99]]\n",
        "# order_number,total_cost\n",
        "totals =list(map(lambda order:(order[0],round(order[2]*order[3]*1.1,2)),orders))\n",
        "result=list(filter(lambda item: item[1]>=100,totals))\n",
        "print (result)\n",
        "\n",
        "\n"
      ],
      "metadata": {
        "id": "1HYWg8LnlFSN",
        "colab": {
          "base_uri": "https://localhost:8080/"
        },
        "outputId": "94952048-5710-4152-9d67-8d0920f75351"
      },
      "execution_count": null,
      "outputs": [
        {
          "output_type": "stream",
          "name": "stdout",
          "text": [
            "[('34587', 180.18), ('98762', 312.4), ('77226', 108.74)]\n"
          ]
        }
      ]
    }
  ]
}